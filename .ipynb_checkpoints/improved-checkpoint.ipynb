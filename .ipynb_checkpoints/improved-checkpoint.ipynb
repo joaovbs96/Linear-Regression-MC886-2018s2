{
 "cells": [
  {
   "cell_type": "markdown",
   "metadata": {},
   "source": [
    "# Improved model"
   ]
  },
  {
   "cell_type": "markdown",
   "metadata": {},
   "source": [
    "## Treino e validação\n",
    "O conjunto de treino será divido em treino e validação para a escolha do melhor modelo."
   ]
  },
  {
   "cell_type": "code",
   "execution_count": 1,
   "metadata": {
    "ExecuteTime": {
     "start_time": "2017-08-24T15:50:05.684Z"
    },
    "collapsed": true
   },
   "outputs": [],
   "source": [
    "import matplotlib.pyplot as plt\n",
    "import numpy as np\n",
    "from zipfile import ZipFile\n",
    "from sklearn import datasets, linear_model\n",
    "from sklearn.metrics import mean_squared_error\n",
    "from sklearn.model_selection import train_test_split, cross_val_score\n",
    "from sklearn.pipeline import Pipeline\n",
    "from sklearn.preprocessing import MinMaxScaler, PolynomialFeatures, minmax_scale"
   ]
  },
  {
   "cell_type": "code",
   "execution_count": 2,
   "metadata": {
    "collapsed": true
   },
   "outputs": [],
   "source": [
    "# Open database file\n",
    "train_file = ZipFile('year-prediction-msd-train.txt.zip').open('year-prediction-msd-train.txt')"
   ]
  },
  {
   "cell_type": "code",
   "execution_count": 3,
   "metadata": {
    "collapsed": true
   },
   "outputs": [],
   "source": [
    "# Read it to string\n",
    "train = train_file.read().decode(\"UTF-8\")"
   ]
  },
  {
   "cell_type": "code",
   "execution_count": 4,
   "metadata": {
    "collapsed": true
   },
   "outputs": [],
   "source": [
    "# Close file\n",
    "train_file.close()"
   ]
  },
  {
   "cell_type": "code",
   "execution_count": 5,
   "metadata": {
    "collapsed": true
   },
   "outputs": [],
   "source": [
    "# Replace \\n with ;\n",
    "train = train.replace(\"\\n\", \";\")[:-1]"
   ]
  },
  {
   "cell_type": "code",
   "execution_count": 6,
   "metadata": {
    "collapsed": true
   },
   "outputs": [],
   "source": [
    "# Train matrix\n",
    "train_matrix = np.matrix(train)\n",
    "\n",
    "# Training data (song attributes)\n",
    "X_train_average = train_matrix[:, 1:13]\n",
    "X_train_covariance = []\n",
    "X_train_covariance.append(train_matrix[:, 13:26])\n",
    "X_train_covariance.append(train_matrix[:, 26:39])\n",
    "X_train_covariance.append(train_matrix[:, 39:52])\n",
    "X_train_covariance.append(train_matrix[:, 52:65])\n",
    "X_train_covariance.append(train_matrix[:, 65:78])\n",
    "X_train_covariance.append(train_matrix[:, 78:91])\n",
    "\n",
    "# Target values (release year of the songs)\n",
    "Y_train = np.squeeze(np.asarray(train_matrix[:, 0]))"
   ]
  },
  {
   "cell_type": "code",
   "execution_count": 7,
   "metadata": {
    "collapsed": true
   },
   "outputs": [],
   "source": [
    "# Transform the 90 features into 7 by taking averages\n",
    "X_train = np.zeros((X_train_average.shape[0], 7))\n",
    "\n",
    "# One feature for the timbre averages\n",
    "for i in range(X_train_average.shape[0]):\n",
    "    for j in range(X_train_average.shape[1]):\n",
    "        X_train[i,0] += X_train_average[i,j]\n",
    "    X_train[i,0] = X_train[i,0]/X_train_average.shape[1]\n",
    "\n",
    "# Six features for the timbre covariances\n",
    "for t in range(0, 6):\n",
    "    train = X_train_covariance[t]\n",
    "    for i in range(train.shape[0]):\n",
    "        for j in range(train.shape[1]):\n",
    "            X_train[i,t+1] += train[i,j]\n",
    "        X_train[i,t+1] = X_train[i,t+1]/train.shape[1]"
   ]
  },
  {
   "cell_type": "code",
   "execution_count": 8,
   "metadata": {
    "collapsed": true
   },
   "outputs": [],
   "source": [
    "# Split the data into train and validation\n",
    "X_train, X_valid, Y_train, Y_valid = train_test_split(X_train, Y_train, test_size=0.15, random_state=0)"
   ]
  },
  {
   "cell_type": "code",
   "execution_count": 9,
   "metadata": {
    "collapsed": true
   },
   "outputs": [],
   "source": [
    "# Create linear regression object with scaled features\n",
    "linear_regression = linear_model.SGDRegressor(tol=0.0001, \n",
    "                                              max_iter=1000,\n",
    "                                              alpha=0.001)\n",
    "scaler = MinMaxScaler(feature_range=(-1, 1))\n",
    "poly = PolynomialFeatures(2)\n",
    "regr = Pipeline([(\"scaler\", scaler), \n",
    "                 (\"poly\", poly),\n",
    "                 (\"linear_regression\", linear_regression)])"
   ]
  },
  {
   "cell_type": "code",
   "execution_count": 10,
   "metadata": {
    "scrolled": true
   },
   "outputs": [
    {
     "data": {
      "text/plain": [
       "Pipeline(memory=None,\n",
       "     steps=[('scaler', MinMaxScaler(copy=True, feature_range=(-1, 1))), ('poly', PolynomialFeatures(degree=2, include_bias=True, interaction_only=False)), ('linear_regression', SGDRegressor(alpha=0.001, average=False, epsilon=0.1, eta0=0.01,\n",
       "       fit_intercept=True, l1_ratio=0.15, learning_rate='invscaling',\n",
       "       loss='squared_loss', max_iter=1000, n_iter=None, penalty='l2',\n",
       "       power_t=0.25, random_state=None, shuffle=True, tol=0.0001,\n",
       "       verbose=0, warm_start=False))])"
      ]
     },
     "execution_count": 10,
     "metadata": {},
     "output_type": "execute_result"
    }
   ],
   "source": [
    "regr.fit( X_train, Y_train )"
   ]
  },
  {
   "cell_type": "code",
   "execution_count": 11,
   "metadata": {},
   "outputs": [
    {
     "name": "stdout",
     "output_type": "stream",
     "text": [
      "118.249424215\n"
     ]
    }
   ],
   "source": [
    "# Make predictions using the validation set\n",
    "Y_pred = regr.predict(X_valid)\n",
    "# Squared error\n",
    "print(mean_squared_error(Y_valid, Y_pred))"
   ]
  },
  {
   "cell_type": "code",
   "execution_count": 12,
   "metadata": {},
   "outputs": [
    {
     "name": "stdout",
     "output_type": "stream",
     "text": [
      "117.840030418\n"
     ]
    }
   ],
   "source": [
    "# Make predictions using the training set for comparison\n",
    "Y_predt = regr.predict(X_train)\n",
    "# Squared error\n",
    "print(mean_squared_error(Y_train, Y_predt))"
   ]
  },
  {
   "cell_type": "code",
   "execution_count": 13,
   "metadata": {},
   "outputs": [
    {
     "data": {
      "image/png": "[encoded data removed]",
      "text/plain": [
       "<matplotlib.figure.Figure at 0x7fcd52c45f28>"
      ]
     },
     "metadata": {},
     "output_type": "display_data"
    }
   ],
   "source": [
    "# Plot outputs\n",
    "plt.scatter(np.asarray(X_train[:, 0]), Y_train,  color='pink')\n",
    "plt.scatter(np.asarray(X_valid[:, 0]), Y_valid,  color='blue')\n",
    "plt.scatter(np.asarray(X_train[:, 0]), Y_predt, color='black')\n",
    "\n",
    "plt.show()"
   ]
  }
 ],
 "metadata": {
  "anaconda-cloud": {},
  "kernelspec": {
   "display_name": "Python 3",
   "language": "python",
   "name": "python3"
  },
  "language_info": {
   "codemirror_mode": {
    "name": "ipython",
    "version": 3
   },
   "file_extension": ".py",
   "mimetype": "text/x-python",
   "name": "python",
   "nbconvert_exporter": "python",
   "pygments_lexer": "ipython3",
   "version": "3.6.4"
  }
 },
 "nbformat": 4,
 "nbformat_minor": 1
}
